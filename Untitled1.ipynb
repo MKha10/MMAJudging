{
 "cells": [
  {
   "cell_type": "code",
   "execution_count": 2,
   "metadata": {},
   "outputs": [],
   "source": [
    "import requests\n",
    "from bs4 import BeautifulSoup\n",
    "import numpy as np\n",
    "import json"
   ]
  },
  {
   "cell_type": "code",
   "execution_count": 7,
   "metadata": {},
   "outputs": [],
   "source": [
    "url = 'http://mmadecisions.com/decisions-by-event/'\n",
    "r = requests.get(url)\n",
    "soup = BeautifulSoup(r.content, 'html.parser')"
   ]
  },
  {
   "cell_type": "code",
   "execution_count": 10,
   "metadata": {},
   "outputs": [
    {
     "data": {
      "text/plain": [
       "[<tr class=\"decision\">\n",
       " <td align=\"center\" class=\"list-center\">Jun 13, 2020 </td>\n",
       " <td class=\"list\"><a href=\"event/1067/UFC-on-ESPN-Eye-vs-Calvillo\">UFC on ESPN: Eye vs. Calvillo</a></td>\n",
       " <td align=\"center\" class=\"list-center\">5</td>\n",
       " </tr>,\n",
       " <tr class=\"decision\">\n",
       " <td align=\"center\" class=\"list-center\">Jun 06, 2020 </td>\n",
       " <td class=\"list\"><a href=\"event/1066/UFC-250-Nunes-vs-Spencer\">UFC 250: Nunes vs. Spencer</a></td>\n",
       " <td align=\"center\" class=\"list-center\">5</td>\n",
       " </tr>,\n",
       " <tr class=\"decision\">\n",
       " <td align=\"center\" class=\"list-center\">May 30, 2020 </td>\n",
       " <td class=\"list\"><a href=\"event/1065/UFC-on-ESPN-9-Woodley-vs-Burns\">UFC on ESPN 9: Woodley vs. Burns</a></td>\n",
       " <td align=\"center\" class=\"list-center\">5</td>\n",
       " </tr>,\n",
       " <tr class=\"decision\">\n",
       " <td align=\"center\" class=\"list-center\">May 16, 2020 </td>\n",
       " <td class=\"list\"><a href=\"event/1064/UFC-on-ESPN-8-Overeem-vs-Harris\">UFC on ESPN 8: Overeem vs. Harris</a></td>\n",
       " <td align=\"center\" class=\"list-center\">6</td>\n",
       " </tr>,\n",
       " <tr class=\"decision\">\n",
       " <td align=\"center\" class=\"list-center\">May 13, 2020 </td>\n",
       " <td class=\"list\"><a href=\"event/1063/UFC-on-ESPN+-29-Smith-vs-Teixeira\">UFC on ESPN+ 29: Smith vs. Teixeira</a></td>\n",
       " <td align=\"center\" class=\"list-center\">5</td>\n",
       " </tr>,\n",
       " <tr class=\"decision\">\n",
       " <td align=\"center\" class=\"list-center\">May 09, 2020 </td>\n",
       " <td class=\"list\"><a href=\"event/1062/UFC-249-Ferguson-vs-Gaethje\">UFC 249: Ferguson vs. Gaethje</a></td>\n",
       " <td align=\"center\" class=\"list-center\">6</td>\n",
       " </tr>,\n",
       " <tr class=\"decision\">\n",
       " <td align=\"center\" class=\"list-center\">Mar 21, 2020 </td>\n",
       " <td class=\"list\"><a href=\"event/1061/CW-113-Stewart-vs-Fabinski\">CW 113: Stewart vs. Fabinski</a></td>\n",
       " <td align=\"center\" class=\"list-center\">5</td>\n",
       " </tr>,\n",
       " <tr class=\"decision\">\n",
       " <td align=\"center\" class=\"list-center\">Mar 14, 2020 </td>\n",
       " <td class=\"list\"><a href=\"event/1060/UFC-on-ESPN+-28-Lee-vs-Oliveira\">UFC on ESPN+ 28: Lee vs. Oliveira</a></td>\n",
       " <td align=\"center\" class=\"list-center\">9</td>\n",
       " </tr>,\n",
       " <tr class=\"decision\">\n",
       " <td align=\"center\" class=\"list-center\">Mar 07, 2020 </td>\n",
       " <td class=\"list\"><a href=\"event/1059/UFC-248-Adesanya-vs-Romero\">UFC 248: Adesanya vs. Romero</a></td>\n",
       " <td align=\"center\" class=\"list-center\">6</td>\n",
       " </tr>,\n",
       " <tr class=\"decision\">\n",
       " <td align=\"center\" class=\"list-center\">Mar 07, 2020 </td>\n",
       " <td class=\"list\"><a href=\"event/1058/CW-112-Cartwright-vs-Bilic\">CW 112: Cartwright vs. Bilic</a></td>\n",
       " <td align=\"center\" class=\"list-center\">4</td>\n",
       " </tr>,\n",
       " <tr class=\"decision\">\n",
       " <td align=\"center\" class=\"list-center\">Mar 06, 2020 </td>\n",
       " <td class=\"list\"><a href=\"event/1057/Invicta-Phoenix-Series-3\">Invicta: Phoenix Series 3</a></td>\n",
       " <td align=\"center\" class=\"list-center\">10</td>\n",
       " </tr>,\n",
       " <tr class=\"decision\">\n",
       " <td align=\"center\" class=\"list-center\">Feb 29, 2020 </td>\n",
       " <td class=\"list\"><a href=\"event/1056/UFC-on-ESPN+-27-Benavidez-vs-Figueiredo\">UFC on ESPN+ 27: Benavidez vs. Figueiredo</a></td>\n",
       " <td align=\"center\" class=\"list-center\">4</td>\n",
       " </tr>,\n",
       " <tr class=\"decision\">\n",
       " <td align=\"center\" class=\"list-center\">Feb 22, 2020 </td>\n",
       " <td class=\"list\"><a href=\"event/1054/Bellator-240-Bellator-Dublin\">Bellator 240: Bellator Dublin</a></td>\n",
       " <td align=\"center\" class=\"list-center\">9</td>\n",
       " </tr>,\n",
       " <tr class=\"decision\">\n",
       " <td align=\"center\" class=\"list-center\">Feb 22, 2020 </td>\n",
       " <td class=\"list\"><a href=\"event/1055/UFC-on-ESPN+-26-Felder-vs-Hooker\">UFC on ESPN+ 26: Felder vs. Hooker</a></td>\n",
       " <td align=\"center\" class=\"list-center\">6</td>\n",
       " </tr>,\n",
       " <tr class=\"decision\">\n",
       " <td align=\"center\" class=\"list-center\">Feb 21, 2020 </td>\n",
       " <td class=\"list\"><a href=\"event/1053/Bellator-239-Ruth-vs-Amosov\">Bellator 239: Ruth vs. Amosov</a></td>\n",
       " <td align=\"center\" class=\"list-center\">11</td>\n",
       " </tr>,\n",
       " <tr class=\"decision\">\n",
       " <td align=\"center\" class=\"list-center\">Feb 15, 2020 </td>\n",
       " <td class=\"list\"><a href=\"event/1052/UFC-on-ESPN+-25-Anderson-vs-Blachowicz-2\">UFC on ESPN+ 25: Anderson vs. Blachowicz 2</a></td>\n",
       " <td align=\"center\" class=\"list-center\">7</td>\n",
       " </tr>,\n",
       " <tr class=\"decision\">\n",
       " <td align=\"center\" class=\"list-center\">Feb 08, 2020 </td>\n",
       " <td class=\"list\"><a href=\"event/1051/UFC-247-Jones-vs-Reyes\">UFC 247: Jones vs. Reyes</a></td>\n",
       " <td align=\"center\" class=\"list-center\">7</td>\n",
       " </tr>,\n",
       " <tr class=\"decision\">\n",
       " <td align=\"center\" class=\"list-center\">Feb 07, 2020 </td>\n",
       " <td class=\"list\"><a href=\"event/1050/Invicta-FC-39-Frey-vs-Cummins-II\">Invicta FC 39: Frey vs. Cummins II</a></td>\n",
       " <td align=\"center\" class=\"list-center\">5</td>\n",
       " </tr>,\n",
       " <tr class=\"decision\">\n",
       " <td align=\"center\" class=\"list-center\">Jan 25, 2020 </td>\n",
       " <td class=\"list\"><a href=\"event/1049/UFC-on-ESPN+-24-Blaydes-vs-dos-Santos\">UFC on ESPN+ 24: Blaydes vs. dos Santos</a></td>\n",
       " <td align=\"center\" class=\"list-center\">7</td>\n",
       " </tr>,\n",
       " <tr class=\"decision\">\n",
       " <td align=\"center\" class=\"list-center\">Jan 25, 2020 </td>\n",
       " <td class=\"list\"><a href=\"event/1048/Bellator-238-Budd-vs-Cyborg\">Bellator 238: Budd vs. Cyborg</a></td>\n",
       " <td align=\"center\" class=\"list-center\">6</td>\n",
       " </tr>,\n",
       " <tr class=\"decision\">\n",
       " <td align=\"center\" class=\"list-center\">Jan 18, 2020 </td>\n",
       " <td class=\"list\"><a href=\"event/1047/UFC-246-McGregor-vs-Cowboy\">UFC 246: McGregor vs. Cowboy</a></td>\n",
       " <td align=\"center\" class=\"list-center\">6</td>\n",
       " </tr>]"
      ]
     },
     "execution_count": 10,
     "metadata": {},
     "output_type": "execute_result"
    }
   ],
   "source": [
    "soup.find_all('tr', {'class':'decision'})"
   ]
  },
  {
   "cell_type": "code",
   "execution_count": null,
   "metadata": {},
   "outputs": [],
   "source": []
  }
 ],
 "metadata": {
  "kernelspec": {
   "display_name": "MMAJudges2",
   "language": "python",
   "name": "mmajudges2"
  },
  "language_info": {
   "codemirror_mode": {
    "name": "ipython",
    "version": 3
   },
   "file_extension": ".py",
   "mimetype": "text/x-python",
   "name": "python",
   "nbconvert_exporter": "python",
   "pygments_lexer": "ipython3",
   "version": "3.8.3"
  }
 },
 "nbformat": 4,
 "nbformat_minor": 4
}
