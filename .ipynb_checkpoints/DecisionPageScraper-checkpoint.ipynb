{
 "cells": [
  {
   "cell_type": "code",
   "execution_count": 72,
   "metadata": {},
   "outputs": [],
   "source": [
    "import requests\n",
    "from bs4 import BeautifulSoup\n",
    "import numpy as np"
   ]
  },
  {
   "cell_type": "code",
   "execution_count": 73,
   "metadata": {},
   "outputs": [],
   "source": [
    "url = 'http://mmadecisions.com/decision/10877/Jon-Jones-vs-Dominick-Reyes'\n",
    "r = requests.get(url)\n",
    "soup = BeautifulSoup(r.content, 'html.parser')"
   ]
  },
  {
   "cell_type": "code",
   "execution_count": 74,
   "metadata": {},
   "outputs": [],
   "source": [
    "#finding the fight name/result \n",
    "def fight_result_finder(s):\n",
    "    metadata = {}\n",
    "    f1_name = s.find_all(\"td\",\n",
    "                             {'class':'decision-top'})[0].find('a').text.strip().replace('\\xa0', ' ')\n",
    "    f2_name = s.find_all(\"td\",\n",
    "                            {'class':'decision-bottom'})[1].find('a').text.strip().replace('\\xa0', ' ')\n",
    "    result = soup.find_all(\"td\",\n",
    "                           {'class':'decision-middle'})[0].text.strip()\n",
    "    metadata.update(\n",
    "        {'result': f1_name + ' ' + result + ' ' + f2_name, \n",
    "         'first_fighter': f1_name, \n",
    "         'second_fighter': f2_name})\n",
    "    return metadata"
   ]
  },
  {
   "cell_type": "code",
   "execution_count": 75,
   "metadata": {},
   "outputs": [],
   "source": [
    "result_data = fight_result_finder(soup)\n",
    "fighter1 = result_data.get('first_fighter')\n",
    "fighter2 = result_data.get('second_fighter')\n",
    "fighter1_first_name = fighter1.split()[0]\n",
    "fighter1_last_name = fighter1[len(fighter1_first_name):]\n",
    "fighter2_first_name = fighter2.split()[0]\n",
    "fighter2_last_name = fighter2[len(fighter2_first_name):]\n",
    "result = result_data.get('result')"
   ]
  },
  {
   "cell_type": "code",
   "execution_count": 76,
   "metadata": {},
   "outputs": [],
   "source": [
    "#finding location, event, and date of the fight \n",
    "def fight_metadata(s):\n",
    "    metadata = {}\n",
    "    evt = s.find_all('td', \n",
    "                          {'class': 'decision-top2'})[0].find('b').find('a').text\n",
    "    loc = s.find_all('td', {'class': 'decision-top2'})[0].contents[5].strip()\n",
    "    dt = s.find_all('td', {'class': 'decision-top2'})[0].contents[3].strip()\n",
    "    metadata.update({'event': evt, 'location': loc, 'date': dt})\n",
    "    return metadata  "
   ]
  },
  {
   "cell_type": "code",
   "execution_count": 63,
   "metadata": {},
   "outputs": [],
   "source": [
    "event_metadata = fight_metadata(soup)\n",
    "event_name = event_metadata.get('event')\n",
    "event_location = event_metadata.get('location')\n",
    "event_date = event_metadata.get('date')"
   ]
  },
  {
   "cell_type": "code",
   "execution_count": 64,
   "metadata": {},
   "outputs": [],
   "source": [
    "#gives data for judging for the first and second fighter\n",
    "judges_data = soup.find_all(\"td\", {'class':'judge'})\n",
    "scores_data = soup.find_all('td', {'class': 'bottom-cell'})\n",
    "def f1_judging_data(judges, scores):\n",
    "    metadata = {}\n",
    "    metadata.update({judges[0].text.strip().replace('\\xa0', ' '): int(scores[0].text), \n",
    "                     judges[1].text.strip().replace('\\xa0', ' '): int(scores[2].text), \n",
    "                     judges[2].text.strip().replace('\\xa0', ' '): int(scores[4].text)})\n",
    "    return metadata\n",
    "\n",
    "def f2_judging_data(judges, scores):\n",
    "    metadata = {}\n",
    "    metadata.update({judges[0].text.strip().replace('\\xa0', ' '): int(scores[1].text), \n",
    "                     judges[1].text.strip().replace('\\xa0', ' '): int(scores[3].text), \n",
    "                     judges[2].text.strip().replace('\\xa0', ' '): int(scores[5].text)})\n",
    "    return metadata"
   ]
  },
  {
   "cell_type": "code",
   "execution_count": 65,
   "metadata": {},
   "outputs": [],
   "source": [
    "f1_judge_scores = f1_judging_data(judges_data, scores_data)\n",
    "f2_judge_scores = f2_judging_data(judges_data, scores_data)"
   ]
  },
  {
   "cell_type": "code",
   "execution_count": 66,
   "metadata": {},
   "outputs": [],
   "source": [
    "#gives data on media judging for the first and second fighter\n",
    "media_tbl_data = soup.find(text = \"MEDIA SCORES\").find_parent('table')\n",
    "def f1_media(media_tbl):\n",
    "    metadata = []\n",
    "    for rw in media_tbl.find_all('tr')[1:]:\n",
    "        cells = rw.find_all('td')\n",
    "        try:\n",
    "            metadata.append(int(cells[1].text.strip()[0:2]))\n",
    "        except IndexError:\n",
    "            continue\n",
    "    return np.array(metadata)\n",
    "\n",
    "def f2_media(media_tbl):\n",
    "    metadata = []\n",
    "    for rw in media_tbl.find_all('tr')[1:]:\n",
    "        cells = rw.find_all('td')\n",
    "        try:\n",
    "            metadata.append(int(cells[1].text.strip()[3:]))\n",
    "        except IndexError:\n",
    "            continue\n",
    "    return np.array(metadata)"
   ]
  },
  {
   "cell_type": "code",
   "execution_count": 67,
   "metadata": {},
   "outputs": [],
   "source": [
    "f1_media_scores = f1_media(media_tbl_data)\n",
    "f2_media_scores = f2_media(media_tbl_data)\n",
    "number_of_media = len(f1_media_scores)"
   ]
  },
  {
   "cell_type": "code",
   "execution_count": 68,
   "metadata": {},
   "outputs": [],
   "source": [
    "#gives data on fan judging for the first and second fighter\n",
    "fan_result_rows = soup.find(text = 'FAN SCORING').find_parent('table').find_all('tr')[1].find_all('tr')\n",
    "\n",
    "def fan_proportions(rows):\n",
    "    fighter1_fans = {}\n",
    "    fighter2_fans = {}\n",
    "    for rw in rows:\n",
    "        cells = rw.find_all('td')\n",
    "        result = cells[0].get_text()\n",
    "        if 'defeats' in result:\n",
    "            proportion = float(cells[2].get_text()[:-1]) / 100\n",
    "        \n",
    "            winner = result.split(' defeats ')[0]\n",
    "            winner_score = int(cells[1].get_text()[0:2])\n",
    "        \n",
    "            loser = result.split(' defeats ')[1]\n",
    "            loser_score = int(cells[1].get_text()[5:7])\n",
    "        \n",
    "            if winner in fighter1_last_name:\n",
    "                if winner_score in fighter1_fans:\n",
    "                    fighter1_fans[winner_score] += proportion\n",
    "                else:\n",
    "                    fighter1_fans[winner_score] = proportion\n",
    "            \n",
    "                if loser_score in fighter2_fans:\n",
    "                    fighter2_fans[loser_score] += proportion\n",
    "                else:\n",
    "                    fighter2_fans[loser_score] = proportion\n",
    "            else:\n",
    "                if winner_score in fighter2_fans:\n",
    "                    fighter2_fans[winner_score] += proportion\n",
    "                else:\n",
    "                    fighter2_fans[winner_score] = proportion\n",
    "            \n",
    "                if loser_score in fighter1_fans:\n",
    "                    fighter1_fans[loser_score] += proportion\n",
    "                else:\n",
    "                    fighter1_fans[loser_score] = proportion\n",
    "        if 'draws with' in result:\n",
    "            proportion = float(cells[2].get_text()[:-1]) / 100\n",
    "            both_score = int(cells[1].get_text()[0:2])\n",
    "        \n",
    "            if both_score in fighter1_fans:\n",
    "                fighter1_fans[both_score] += proportion\n",
    "            else:\n",
    "                fighter1_fans[both_score] = proportion\n",
    "            \n",
    "            if both_score in fighter2_fans:\n",
    "                fighter2_fans[both_score] += proportion\n",
    "            else:\n",
    "                fighter2_fans[both_score] = proportion\n",
    "    return (fighter1_fans, fighter2_fans)\n",
    "\n",
    "def fans_raw(props):\n",
    "    num_fans_original = int(soup.find('div', {'id' : 'scorecards_submitted'}).find('b').get_text())\n",
    "    f1_len = 0\n",
    "    f2_len = 0\n",
    "    for val in props[0].values():\n",
    "        f1_len += int(round(val * num_fans_original))\n",
    "    for val in props[1].values():\n",
    "        f2_len += int(round(val * num_fans_original))\n",
    "    f1_raw = np.zeros(f1_len)\n",
    "    f2_raw = np.zeros(f2_len)\n",
    "    curr1 = 0\n",
    "    curr2 = 0\n",
    "    for k in props[0].keys():\n",
    "        number_of_scores = int(round(props[0].get(k) * num_fans_original))\n",
    "        f1_raw[curr1:curr1 + number_of_scores] = k\n",
    "        curr1 += number_of_scores\n",
    "    for k in props[1].keys():\n",
    "        number_of_scores = int(round(props[1].get(k) * num_fans_original))\n",
    "        f2_raw[curr2:curr2 + number_of_scores] = k\n",
    "        curr2 += number_of_scores\n",
    "    adjusted_num_scores = np.sum(np.array(props[0].values()))\n",
    "    return (f1_raw, f2_raw, f1_len)"
   ]
  },
  {
   "cell_type": "code",
   "execution_count": 69,
   "metadata": {},
   "outputs": [],
   "source": [
    "fan_proportion_results = fan_proportions(fan_result_rows)\n",
    "f1_fan_proportions = fan_proportion_results[0]\n",
    "f2_fan_proportions = fan_proportion_results[1]\n",
    "fan_raw_stats = fans_raw(fan_proportion_results)\n",
    "f1_fans_raw_numbers = fan_raw_stats[0]\n",
    "f2_fans_raw_numbers = fan_raw_stats[1]\n",
    "num_fans = fan_raw_stats[2]"
   ]
  },
  {
   "cell_type": "code",
   "execution_count": 70,
   "metadata": {},
   "outputs": [],
   "source": [
    "fight_summary = {'Fight Decision' : result,\n",
    "                 'Date' : event_date,\n",
    "                 'Location': event_location,\n",
    "                 'Event': event_name,\n",
    "                 'Fighter 1': fighter1,\n",
    "                 'Fighter 2': fighter2,\n",
    "                 'Raw Fan Scores for Fighter 1': f1_fans_raw_numbers,\n",
    "                 'Raw Fan Scores for Fighter 2': f2_fans_raw_numbers,\n",
    "                 'Proportional Fan Scores for Fighter 1': f1_fan_proportions,\n",
    "                 'Proportional Fan Scores for Fighter 2': f2_fan_proportions,\n",
    "                 'Number of Fans': num_fans,\n",
    "                 'Fighter 1 Judge Scores': f1_judge_scores,\n",
    "                 'Fighter 2 Judge Scores': f2_judge_scores,\n",
    "                 'Fighter 1 Media Scores': f1_media_scores,\n",
    "                 'Fighter 2 Media Scores': f2_media_scores,\n",
    "                 'Number of Media Members': number_of_media}"
   ]
  },
  {
   "cell_type": "code",
   "execution_count": 71,
   "metadata": {},
   "outputs": [
    {
     "data": {
      "text/plain": [
       "{'Fight Decision': 'Jon Jones defeats Dominick Reyes',\n",
       " 'Date': 'February 08, 2020',\n",
       " 'Location': 'Houston, Texas, USA',\n",
       " 'Event': 'UFC 247: Jones vs. Reyes',\n",
       " 'Fighter 1': 'Jon Jones',\n",
       " 'Fighter 2': 'Dominick Reyes',\n",
       " 'Raw Fan Scores for Fighter 1': array([47., 47., 47., ..., 46., 46., 46.]),\n",
       " 'Raw Fan Scores for Fighter 2': array([48., 48., 48., ..., 49., 49., 49.]),\n",
       " 'Proportional Fan Scores for Fighter 1': {47: 0.7210000000000001,\n",
       "  48: 0.19499999999999998,\n",
       "  46: 0.039},\n",
       " 'Proportional Fan Scores for Fighter 2': {48: 0.7300000000000001,\n",
       "  47: 0.172,\n",
       "  49: 0.053},\n",
       " 'Number of Fans': 2401,\n",
       " 'Fighter 1 Judge Scores': {'Chris Lee': 48,\n",
       "  'Marcos Rosales': 48,\n",
       "  'Joe Soliz': 49},\n",
       " 'Fighter 2 Judge Scores': {'Chris Lee': 47,\n",
       "  'Marcos Rosales': 47,\n",
       "  'Joe Soliz': 46},\n",
       " 'Fighter 1 Media Scores': array([48, 48, 48, 48, 48, 48, 48, 47, 47, 47, 47, 47, 47, 47, 47, 47, 47,\n",
       "        47, 47, 47, 47]),\n",
       " 'Fighter 2 Media Scores': array([47, 47, 47, 47, 47, 47, 47, 48, 48, 48, 48, 48, 48, 48, 48, 48, 48,\n",
       "        48, 48, 48, 48]),\n",
       " 'Number of Media Members': 21}"
      ]
     },
     "execution_count": 71,
     "metadata": {},
     "output_type": "execute_result"
    }
   ],
   "source": [
    "fight_summary"
   ]
  }
 ],
 "metadata": {
  "kernelspec": {
   "display_name": "MMAJudges2",
   "language": "python",
   "name": "mmajudges2"
  },
  "language_info": {
   "codemirror_mode": {
    "name": "ipython",
    "version": 3
   },
   "file_extension": ".py",
   "mimetype": "text/x-python",
   "name": "python",
   "nbconvert_exporter": "python",
   "pygments_lexer": "ipython3",
   "version": "3.8.3"
  }
 },
 "nbformat": 4,
 "nbformat_minor": 4
}
