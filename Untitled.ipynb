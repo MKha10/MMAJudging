{
 "cells": [
  {
   "cell_type": "code",
   "execution_count": 1,
   "metadata": {},
   "outputs": [],
   "source": [
    "import requests\n",
    "url = 'http://mmadecisions.com/decision/10877/Jon-Jones-vs-Dominick-Reyes'\n",
    "r = requests.get(url)"
   ]
  },
  {
   "cell_type": "code",
   "execution_count": 2,
   "metadata": {},
   "outputs": [],
   "source": [
    "from bs4 import BeautifulSoup\n",
    "soup = BeautifulSoup(r.content, 'html.parser')"
   ]
  },
  {
   "cell_type": "code",
   "execution_count": 3,
   "metadata": {},
   "outputs": [],
   "source": [
    "#finding the fight name/result \n",
    "def fight_result_finder(s):\n",
    "    metadata = {}\n",
    "    f1_name = s.find_all(\"td\",\n",
    "                             {'class':'decision-top'})[0].find('a').text.strip().replace('\\xa0', ' ')\n",
    "    f2_name = s.find_all(\"td\",\n",
    "                            {'class':'decision-bottom'})[1].find('a').text.strip().replace('\\xa0', ' ')\n",
    "    result = soup.find_all(\"td\",\n",
    "                           {'class':'decision-middle'})[0].text.strip()\n",
    "    metadata.update(\n",
    "        {'result': f1_name + ' ' + result + ' ' + f2_name, \n",
    "         'first_fighter': f1_name, \n",
    "         'second_fighter': f2_name})\n",
    "    return metadata"
   ]
  },
  {
   "cell_type": "code",
   "execution_count": 4,
   "metadata": {},
   "outputs": [],
   "source": [
    "#finding location, event, and date of the fight \n",
    "def fight_metadata(s):\n",
    "    metadata = {}\n",
    "    evt = s.find_all('td', \n",
    "                          {'class': 'decision-top2'})[0].find('b').find('a').text\n",
    "    loc = s.find_all('td', {'class': 'decision-top2'})[0].contents[5].strip()\n",
    "    dt = s.find_all('td', {'class': 'decision-top2'})[0].contents[3].strip()\n",
    "    metadata.update({'event': evt, 'location': loc, 'date': dt})\n",
    "    return metadata  "
   ]
  },
  {
   "cell_type": "code",
   "execution_count": 5,
   "metadata": {},
   "outputs": [],
   "source": [
    "#gives data for judging for the first and second fighter\n",
    "def f1_judging_data(s):\n",
    "    metadata = {}\n",
    "    judges = soup.find_all(\"td\", {'class':'judge'})\n",
    "    scores = soup.find_all('td', {'class': 'bottom-cell'})\n",
    "    metadata.update({judges[0].text.strip().replace('\\xa0', ' '): int(scores[0].text), \n",
    "                     judges[1].text.strip().replace('\\xa0', ' '): int(scores[2].text), \n",
    "                     judges[2].text.strip().replace('\\xa0', ' '): int(scores[4].text)})\n",
    "    return metadata\n",
    "\n",
    "def f2_judging_data(s):\n",
    "    metadata = {}\n",
    "    judges = soup.find_all(\"td\", {'class':'judge'})\n",
    "    scores = soup.find_all('td', {'class': 'bottom-cell'})\n",
    "    metadata.update({judges[0].text.strip().replace('\\xa0', ' '): int(scores[1].text), \n",
    "                     judges[1].text.strip().replace('\\xa0', ' '): int(scores[3].text), \n",
    "                     judges[2].text.strip().replace('\\xa0', ' '): int(scores[5].text)})\n",
    "    return metadata"
   ]
  },
  {
   "cell_type": "code",
   "execution_count": 133,
   "metadata": {},
   "outputs": [],
   "source": [
    "#gives data  media judging for the first and second fighter\n",
    "def f1_media(s):\n",
    "    metadata = []\n",
    "    tbl = s.find(text = \"MEDIA SCORES\").find_parent('table')\n",
    "    for rw in tbl.find_all('tr')[1:]:\n",
    "        cells = rw.find_all('td')\n",
    "        try:\n",
    "            metadata.append(int(cells[1].text.strip()[0:2]))\n",
    "        except IndexError:\n",
    "            continue\n",
    "    return metadata\n",
    "\n",
    "def f2_media(s):\n",
    "    metadata = []\n",
    "    tbl = s.find(text = \"MEDIA SCORES\").find_parent('table')\n",
    "    for rw in tbl.find_all('tr')[1:]:\n",
    "        cells = rw.find_all('td')\n",
    "        try:\n",
    "            metadata.append(int(cells[1].text.strip()[3:]))\n",
    "        except IndexError:\n",
    "            continue\n",
    "    return metadata"
   ]
  },
  {
   "cell_type": "code",
   "execution_count": null,
   "metadata": {},
   "outputs": [],
   "source": []
  }
 ],
 "metadata": {
  "kernelspec": {
   "display_name": "MMAJudges2",
   "language": "python",
   "name": "mmajudges2"
  },
  "language_info": {
   "codemirror_mode": {
    "name": "ipython",
    "version": 3
   },
   "file_extension": ".py",
   "mimetype": "text/x-python",
   "name": "python",
   "nbconvert_exporter": "python",
   "pygments_lexer": "ipython3",
   "version": "3.8.3"
  }
 },
 "nbformat": 4,
 "nbformat_minor": 4
}
