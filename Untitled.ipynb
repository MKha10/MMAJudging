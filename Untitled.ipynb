{
 "cells": [
  {
   "cell_type": "code",
   "execution_count": 8,
   "metadata": {},
   "outputs": [],
   "source": [
    "import requests\n",
    "from bs4 import BeautifulSoup\n",
    "import numpy as np\n",
    "import json"
   ]
  },
  {
   "cell_type": "code",
   "execution_count": 2,
   "metadata": {},
   "outputs": [],
   "source": [
    "url = 'http://mmadecisions.com/decisions-by-event/1995/'\n",
    "r = requests.get(url)\n",
    "soup = BeautifulSoup(r.content, 'html.parser')"
   ]
  },
  {
   "cell_type": "code",
   "execution_count": 3,
   "metadata": {},
   "outputs": [],
   "source": [
    "year_links = []"
   ]
  },
  {
   "cell_type": "code",
   "execution_count": 4,
   "metadata": {},
   "outputs": [],
   "source": [
    "event_links = []"
   ]
  },
  {
   "cell_type": "code",
   "execution_count": 5,
   "metadata": {},
   "outputs": [],
   "source": [
    "year_pages = soup.find_all('td', {'class': 'list2'})"
   ]
  },
  {
   "cell_type": "code",
   "execution_count": 6,
   "metadata": {},
   "outputs": [],
   "source": [
    "for page in year_pages:\n",
    "    year_links.append('http://mmadecisions.com/' + page.find('a')['href'])"
   ]
  },
  {
   "cell_type": "code",
   "execution_count": 9,
   "metadata": {},
   "outputs": [],
   "source": [
    "with open('links_by_year.json', 'w') as yr_l:\n",
    "    json.dump(year_links, yr_l)"
   ]
  },
  {
   "cell_type": "code",
   "execution_count": null,
   "metadata": {},
   "outputs": [],
   "source": [
    "for yl in year_links:\n",
    "    curr_url = yl\n",
    "    curr_req = requests.get(curr_url)\n",
    "    curr_soup = BeautifulSoup(curr_req.content, 'html.parser')\n",
    "    event_pages = curr_soup.find_all('td', {'class': 'list'})\n",
    "    for ep in event_pages:\n",
    "        event_links.append('http://mmadecisions.com/' + ep.find('a')['href'])"
   ]
  }
 ],
 "metadata": {
  "kernelspec": {
   "display_name": "MMAJudges2",
   "language": "python",
   "name": "mmajudges2"
  },
  "language_info": {
   "codemirror_mode": {
    "name": "ipython",
    "version": 3
   },
   "file_extension": ".py",
   "mimetype": "text/x-python",
   "name": "python",
   "nbconvert_exporter": "python",
   "pygments_lexer": "ipython3",
   "version": "3.8.3"
  }
 },
 "nbformat": 4,
 "nbformat_minor": 4
}
